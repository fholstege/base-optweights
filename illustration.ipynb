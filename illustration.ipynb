{
 "cells": [
  {
   "cell_type": "code",
   "execution_count": 2,
   "metadata": {},
   "outputs": [
    {
     "name": "stdout",
     "output_type": "stream",
     "text": [
      "Intel MKL WARNING: Support of Intel(R) Streaming SIMD Extensions 4.2 (Intel(R) SSE4.2) enabled only processors has been deprecated. Intel oneAPI Math Kernel Library 2025.0 will require Intel(R) Advanced Vector Extensions (Intel(R) AVX) instructions.\n",
      "Intel MKL WARNING: Support of Intel(R) Streaming SIMD Extensions 4.2 (Intel(R) SSE4.2) enabled only processors has been deprecated. Intel oneAPI Math Kernel Library 2025.0 will require Intel(R) Advanced Vector Extensions (Intel(R) AVX) instructions.\n"
     ]
    }
   ],
   "source": [
    "# import the necessary packages\n",
    "import numpy as np\n",
    "import matplotlib.pyplot as plt\n",
    "from matplotlib.patches import ConnectionPatch\n",
    "\n"
   ]
  },
  {
   "cell_type": "code",
   "execution_count": 3,
   "metadata": {},
   "outputs": [],
   "source": [
    "# define the font to be used for the plot\n",
    "font = {'family' : 'serif',\n",
    "        'weight' : 'normal',\n",
    "        'size'   : 16}\n",
    "figsize=(5, 3)"
   ]
  },
  {
   "cell_type": "code",
   "execution_count": 4,
   "metadata": {},
   "outputs": [
    {
     "data": {
      "image/png": "[encoded data removed]",
      "text/plain": [
       "<Figure size 500x300 with 1 Axes>"
      ]
     },
     "metadata": {},
     "output_type": "display_data"
    }
   ],
   "source": [
    "# define the parameters\n",
    "p_A = 0.9\n",
    "p_B = 0.1\n",
    "\n",
    "# define a barplot\n",
    "# It should have xticks - A/B\n",
    "fig, ax = plt.subplots(figsize=figsize)\n",
    "\n",
    "# define the width of the bars\n",
    "width_bar = 0.3\n",
    "space_between_bar = 0.1\n",
    "alpha = 0.4\n",
    "\n",
    "# define the colors\n",
    "color_A = 'red'\n",
    "color_B = 'blue'\n",
    "\n",
    "# define the xticks\n",
    "x_start = 0\n",
    "x_ticks = [x_start, x_start + width_bar + space_between_bar]\n",
    "\n",
    "# define the barplot\n",
    "bar_A = ax.bar(x_ticks[0], p_A, width_bar, color=color_A, label='A', alpha=alpha)\n",
    "bar_B = ax.bar(x_ticks[1], p_B, width_bar, color=color_B, label='B', alpha=alpha)\n",
    "\n",
    "# set the xticks\n",
    "ax.set_xticks(x_ticks)\n",
    "ax.set_xticklabels([r'Female', r'Male'])\n",
    "\n",
    "# define the yticks - do not show\n",
    "ax.set_yticks([])\n",
    "ax.set_yticklabels([])\n",
    "\n",
    "# put in text the percentage above the bars\n",
    "adjust_y_text = 0.025\n",
    "ax.text(x_ticks[0], p_A + adjust_y_text, f'{p_A*100:.0f}%', ha='center', va='center', color='black')\n",
    "ax.text(x_ticks[1], p_B + adjust_y_text, f'{p_B*100:.0f}%', ha='center', va='center', color='black')\n",
    "\n",
    "# adjust tye y-axis\n",
    "ax.set_ylim(0, 1)\n",
    "\n",
    "# save the plot as an object to write over\n",
    "base_plot = plt.gcf()\n",
    "\n",
    "# remove the edge of the plot\n",
    "base_plot.gca().spines['top'].set_visible(False)\n",
    "base_plot.gca().spines['right'].set_visible(False)\n",
    "base_plot.gca().spines['left'].set_visible(False)\n",
    "\n",
    "# save in plots\n",
    "base_plot.savefig('plots/illustration1.png', dpi=300, bbox_inches='tight')\n",
    "\n"
   ]
  },
  {
   "cell_type": "code",
   "execution_count": 5,
   "metadata": {},
   "outputs": [
    {
     "data": {
      "image/png": "[encoded data removed]",
      "text/plain": [
       "<Figure size 500x300 with 1 Axes>"
      ]
     },
     "metadata": {},
     "output_type": "display_data"
    }
   ],
   "source": [
    "# define the probabilities desired\n",
    "p_A_te = 0.5\n",
    "p_B_te = 0.5\n",
    "\n",
    "\n",
    "# define a barplot\n",
    "# It should have xticks - A/B\n",
    "fig, ax = plt.subplots(figsize=figsize)\n",
    "\n",
    "# define the width of the bars\n",
    "width_bar = 0.3\n",
    "space_between_bar = 0.1\n",
    "alpha_te = 0.7\n",
    "\n",
    "# define the colors\n",
    "color_A = 'red'\n",
    "color_B = 'blue'\n",
    "\n",
    "# define the xticks\n",
    "x_start = 0\n",
    "x_ticks = [x_start, x_start + width_bar + space_between_bar]\n",
    "\n",
    "# define the barplot\n",
    "bar_A = ax.bar(x_ticks[0], p_A_te, width_bar, color=color_A, label='A', alpha=alpha_te)\n",
    "bar_B = ax.bar(x_ticks[1], p_B_te, width_bar, color=color_B, label='B', alpha=alpha_te)\n",
    "\n",
    "# set the xticks\n",
    "ax.set_xticks(x_ticks)\n",
    "ax.set_xticklabels([r'Female', r'Male'])\n",
    "\n",
    "# define the yticks - do not show\n",
    "ax.set_yticks([])\n",
    "ax.set_yticklabels([])\n",
    "\n",
    "# put in text the percentage above the bars\n",
    "adjust_y_text = 0.025\n",
    "ax.text(x_ticks[0], p_A_te + adjust_y_text, f'{p_A_te*100:.0f}%', ha='center', va='center', color='black')\n",
    "ax.text(x_ticks[1], p_B_te + adjust_y_text, f'{p_B_te*100:.0f}%', ha='center', va='center', color='black')\n",
    "\n",
    "# adjust tye y-axis\n",
    "ax.set_ylim(0, 1)\n",
    "\n",
    "# save the plot as an object to write over\n",
    "te_plot = plt.gcf()\n",
    "\n",
    "# remove the edge of the plot\n",
    "te_plot.gca().spines['top'].set_visible(False)\n",
    "te_plot.gca().spines['right'].set_visible(False)\n",
    "te_plot.gca().spines['left'].set_visible(False)\n",
    "\n",
    "# save in plots\n",
    "te_plot.savefig('plots/illustration2.png', dpi=300, bbox_inches='tight')\n",
    "\n"
   ]
  },
  {
   "cell_type": "code",
   "execution_count": 6,
   "metadata": {},
   "outputs": [
    {
     "data": {
      "image/png": "[encoded data removed]",
      "text/plain": [
       "<Figure size 500x300 with 1 Axes>"
      ]
     },
     "execution_count": 6,
     "metadata": {},
     "output_type": "execute_result"
    }
   ],
   "source": [
    "\n",
    "\n",
    "# define the barplot \n",
    "ax = base_plot.gca()\n",
    "pattern = '////'\n",
    "\n",
    "# plot from 0.9 to 0.5 on the x-axis\n",
    "to_fill = 0.4\n",
    "bar_A = ax.bar(x_ticks[0],to_fill, width_bar, color=color_A, label='A', alpha=alpha_te, bottom=p_A-to_fill)\n",
    "\n",
    "# plot from 0.1 to 0.5 on the x-axis\n",
    "start = 0.1\n",
    "bar_B = ax.bar(x_ticks[1], p_B_te-start, width_bar, color=color_B, label='B', alpha=alpha_te, bottom=start)\n",
    "\n",
    "# remove the existing text\n",
    "for text in ax.texts:\n",
    "    text.remove()\n",
    "\n",
    "\n",
    "# put in text the percentage at the 50% mark\n",
    "adjust_y_text = 0.025\n",
    "#ax.text(x_ticks[0], p_A_te + adjust_y_text, f'{p_A_te*100:.0f}%', ha='center', va='center', color='black')\n",
    "#ax.text(x_ticks[1], p_B_te + adjust_y_text, f'{p_B_te*100:.0f}%', ha='center', va='center', color='black')\n",
    "ax.text(x_ticks[0], p_A + adjust_y_text, f'{p_A*100:.0f}%', ha='center', va='center', color='black')\n",
    "ax.text(x_ticks[1], p_B + adjust_y_text, f'{p_B*100:.0f}%', ha='center', va='center', color='black')\n",
    "\n",
    "\n",
    "# save the plot\n",
    "base_plot.savefig('plots/illustration4.png', dpi=300, bbox_inches='tight')\n",
    "\n",
    "\n",
    "# show the plot\n",
    "base_plot\n",
    "\n"
   ]
  }
 ],
 "metadata": {
  "kernelspec": {
   "display_name": "spurious_CBM",
   "language": "python",
   "name": "python3"
  },
  "language_info": {
   "codemirror_mode": {
    "name": "ipython",
    "version": 3
   },
   "file_extension": ".py",
   "mimetype": "text/x-python",
   "name": "python",
   "nbconvert_exporter": "python",
   "pygments_lexer": "ipython3",
   "version": "3.11.5"
  },
  "orig_nbformat": 4
 },
 "nbformat": 4,
 "nbformat_minor": 2
}
